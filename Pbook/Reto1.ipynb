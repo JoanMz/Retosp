{
 "cells": [
  {
   "cell_type": "markdown",
   "id": "aea5bccd",
   "metadata": {},
   "source": [
    "***Calcular los 30 años bisiestos siguentes al dado***\n",
    "\n",
    "el algoritmo de calculo de años bisiestos es el siguiente:\n",
    "\n",
    "el año debe ser divisible por 4 y el año no puede ser divisible entre 100 o puede ser divisible por 400"
   ]
  },
  {
   "cell_type": "code",
   "execution_count": 17,
   "id": "f9b503ed",
   "metadata": {},
   "outputs": [],
   "source": [
    "def ntreinta(x):\n",
    "    contador=0\n",
    "    ab=[]\n",
    "    while True:\n",
    "        if contador <=30:\n",
    "            if (x%4==0) and ((x%100!=0)or(x%400==0)):\n",
    "                ab.append(x)\n",
    "                contador +=1\n",
    "            x +=1\n",
    "        else:\n",
    "            del(ab[0])\n",
    "            return ab\n",
    "        "
   ]
  },
  {
   "cell_type": "code",
   "execution_count": 18,
   "id": "5aa5f134",
   "metadata": {},
   "outputs": [
    {
     "name": "stdout",
     "output_type": "stream",
     "text": [
      "[1808, 1812, 1816, 1820, 1824, 1828, 1832, 1836, 1840, 1844, 1848, 1852, 1856, 1860, 1864, 1868, 1872, 1876, 1880, 1884, 1888, 1892, 1896, 1904, 1908, 1912, 1916, 1920, 1924, 1928]\n"
     ]
    }
   ],
   "source": [
    "ab = ntreinta(1804)\n",
    "print(ab)"
   ]
  },
  {
   "cell_type": "code",
   "execution_count": 19,
   "id": "f8ec291f",
   "metadata": {},
   "outputs": [
    {
     "data": {
      "text/plain": [
       "30"
      ]
     },
     "execution_count": 19,
     "metadata": {},
     "output_type": "execute_result"
    }
   ],
   "source": [
    "len(ab)"
   ]
  },
  {
   "cell_type": "code",
   "execution_count": 49,
   "id": "b5e253ac",
   "metadata": {},
   "outputs": [],
   "source": [
    "def proximost(x):\n",
    "    lst=[]\n",
    "    for i in range(30):\n",
    "        x+=4\n",
    "        lst.append(x)\n",
    "    print(len(lst))\n",
    "    return(lst)"
   ]
  },
  {
   "cell_type": "code",
   "execution_count": 54,
   "id": "f7e2d1ed",
   "metadata": {},
   "outputs": [
    {
     "name": "stdout",
     "output_type": "stream",
     "text": [
      "30\n",
      "[1808, 1812, 1816, 1820, 1824, 1828, 1832, 1836, 1840, 1844, 1848, 1852, 1856, 1860, 1864, 1868, 1872, 1876, 1880, 1884, 1888, 1892, 1896, 1900, 1904, 1908, 1912, 1916, 1920, 1924]\n",
      "\n",
      "Este no funciona correctamente porque al parecer no es cada 4 años el 1900 no es biciesto\n"
     ]
    }
   ],
   "source": [
    "prlst = proximost(1804)\n",
    "print(prlst)\n",
    "print(\"\\nEste no funciona correctamente porque al parecer no es cada 4 años el 1900 no es biciesto\")\n"
   ]
  },
  {
   "cell_type": "code",
   "execution_count": 47,
   "id": "6c3d3b64",
   "metadata": {},
   "outputs": [],
   "source": [
    "def años_bisiestos(inicio):\n",
    "    lst = [año for año in range(inicio+1, inicio+1000) if (año%4==0 and (año%100!=0 or año%400==0))]\n",
    "    print(lst[:30])\n",
    "    x=0\n",
    "    for i in lst[:30]:\n",
    "        print(i,x)\n",
    "        x+=1"
   ]
  },
  {
   "cell_type": "code",
   "execution_count": 48,
   "id": "f73b0474",
   "metadata": {},
   "outputs": [
    {
     "name": "stdout",
     "output_type": "stream",
     "text": [
      "[1808, 1812, 1816, 1820, 1824, 1828, 1832, 1836, 1840, 1844, 1848, 1852, 1856, 1860, 1864, 1868, 1872, 1876, 1880, 1884, 1888, 1892, 1896, 1904, 1908, 1912, 1916, 1920, 1924, 1928]\n",
      "1808 0\n",
      "1812 1\n",
      "1816 2\n",
      "1820 3\n",
      "1824 4\n",
      "1828 5\n",
      "1832 6\n",
      "1836 7\n",
      "1840 8\n",
      "1844 9\n",
      "1848 10\n",
      "1852 11\n",
      "1856 12\n",
      "1860 13\n",
      "1864 14\n",
      "1868 15\n",
      "1872 16\n",
      "1876 17\n",
      "1880 18\n",
      "1884 19\n",
      "1888 20\n",
      "1892 21\n",
      "1896 22\n",
      "1904 23\n",
      "1908 24\n",
      "1912 25\n",
      "1916 26\n",
      "1920 27\n",
      "1924 28\n",
      "1928 29\n"
     ]
    }
   ],
   "source": [
    "años_bisiestos(1804)"
   ]
  },
  {
   "cell_type": "code",
   "execution_count": null,
   "id": "51989054",
   "metadata": {},
   "outputs": [],
   "source": []
  }
 ],
 "metadata": {
  "kernelspec": {
   "display_name": "Python 3 (ipykernel)",
   "language": "python",
   "name": "python3"
  },
  "language_info": {
   "codemirror_mode": {
    "name": "ipython",
    "version": 3
   },
   "file_extension": ".py",
   "mimetype": "text/x-python",
   "name": "python",
   "nbconvert_exporter": "python",
   "pygments_lexer": "ipython3",
   "version": "3.11.4"
  }
 },
 "nbformat": 4,
 "nbformat_minor": 5
}
